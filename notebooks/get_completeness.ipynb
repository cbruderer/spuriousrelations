{
 "cells": [
  {
   "cell_type": "code",
   "execution_count": 21,
   "metadata": {
    "collapsed": true
   },
   "outputs": [],
   "source": [
    "import subprocess\n",
    "import shlex\n",
    "import numpy as np"
   ]
  },
  {
   "cell_type": "code",
   "execution_count": 22,
   "metadata": {
    "collapsed": false
   },
   "outputs": [],
   "source": [
    "cmd_split = shlex.split('hadoop fs -du -h /user/imoise/TwitterData/2014_05/20/10/')\n",
    "p = subprocess.Popen(cmd_split, stdout=subprocess.PIPE)\n",
    "outp = p.communicate()[0]"
   ]
  },
  {
   "cell_type": "code",
   "execution_count": 36,
   "metadata": {
    "collapsed": false
   },
   "outputs": [],
   "source": [
    "clean_list = [f for f in outp.split() if len(f) > 5 and f[-5:] == '.json']"
   ]
  },
  {
   "cell_type": "code",
   "execution_count": 38,
   "metadata": {
    "collapsed": false
   },
   "outputs": [
    {
     "data": {
      "text/plain": [
       "60"
      ]
     },
     "execution_count": 38,
     "metadata": {},
     "output_type": "execute_result"
    }
   ],
   "source": [
    "len(clean_list)"
   ]
  },
  {
   "cell_type": "code",
   "execution_count": 39,
   "metadata": {
    "collapsed": false
   },
   "outputs": [
    {
     "name": "stdout",
     "output_type": "stream",
     "text": [
      "Picked up _JAVA_OPTIONS: -Xmx1024m -Xms256m -XX:ParallelGCThreads=1\n",
      "16/05/03 17:47:42 WARN util.NativeCodeLoader: Unable to load native-hadoop library for your platform... using builtin-java classes where applicable\n",
      "525.2 G  /user/imoise/TwitterData/2012\n",
      "948.4 G  /user/imoise/TwitterData/2013\n",
      "311.3 G  /user/imoise/TwitterData/2014_02\n",
      "428.3 G  /user/imoise/TwitterData/2014_03\n",
      "420.8 G  /user/imoise/TwitterData/2014_04\n",
      "415.0 G  /user/imoise/TwitterData/2014_05\n",
      "242.3 G  /user/imoise/TwitterData/2014_06\n",
      "390.1 G  /user/imoise/TwitterData/2014_07\n",
      "398.5 G  /user/imoise/TwitterData/2014_09\n",
      "467.0 G  /user/imoise/TwitterData/2014_10\n",
      "472.7 G  /user/imoise/TwitterData/2014_11\n",
      "492.7 G  /user/imoise/TwitterData/2014_12\n"
     ]
    }
   ],
   "source": [
    "!hadoop fs -du -h /user/imoise/TwitterData/"
   ]
  },
  {
   "cell_type": "code",
   "execution_count": 40,
   "metadata": {
    "collapsed": true
   },
   "outputs": [],
   "source": [
    "months = ['05', '06', '07', '09', '10', '11', '12']"
   ]
  },
  {
   "cell_type": "code",
   "execution_count": 41,
   "metadata": {
    "collapsed": false
   },
   "outputs": [
    {
     "ename": "NameError",
     "evalue": "name 'np' is not defined",
     "output_type": "error",
     "traceback": [
      "\u001b[1;31m---------------------------------------------------------------------------\u001b[0m",
      "\u001b[1;31mNameError\u001b[0m                                 Traceback (most recent call last)",
      "\u001b[1;32m<ipython-input-41-751382c72f8d>\u001b[0m in \u001b[0;36m<module>\u001b[1;34m()\u001b[0m\n\u001b[1;32m----> 1\u001b[1;33m \u001b[0mdays_hours\u001b[0m \u001b[1;33m=\u001b[0m \u001b[0mnp\u001b[0m\u001b[1;33m.\u001b[0m\u001b[0mzeros\u001b[0m\u001b[1;33m(\u001b[0m\u001b[1;33m(\u001b[0m\u001b[0mlen\u001b[0m\u001b[1;33m(\u001b[0m\u001b[0mmonths\u001b[0m\u001b[1;33m)\u001b[0m\u001b[1;33m*\u001b[0m\u001b[1;36m31\u001b[0m\u001b[1;33m,\u001b[0m \u001b[1;36m24\u001b[0m\u001b[1;33m)\u001b[0m\u001b[1;33m)\u001b[0m\u001b[1;33m\u001b[0m\u001b[0m\n\u001b[0m",
      "\u001b[1;31mNameError\u001b[0m: name 'np' is not defined"
     ]
    }
   ],
   "source": [
    "days_hours = np.zeros((len(months)*31, 24))"
   ]
  },
  {
   "cell_type": "code",
   "execution_count": 42,
   "metadata": {
    "collapsed": true
   },
   "outputs": [],
   "source": [
    "cmd_split = shlex.split('hadoop fs -du -h /user/imoise/TwitterData/2014_01/20/10/')\n",
    "p = subprocess.Popen(cmd_split, stdout=subprocess.PIPE)\n",
    "outp = p.communicate()[0]"
   ]
  },
  {
   "cell_type": "code",
   "execution_count": 45,
   "metadata": {
    "collapsed": false
   },
   "outputs": [],
   "source": [
    "clean_list = [f for f in outp.split() if len(f) > 5 and f[-5:] == '.json']"
   ]
  },
  {
   "cell_type": "code",
   "execution_count": 46,
   "metadata": {
    "collapsed": false
   },
   "outputs": [
    {
     "data": {
      "text/plain": [
       "0"
      ]
     },
     "execution_count": 46,
     "metadata": {},
     "output_type": "execute_result"
    }
   ],
   "source": [
    "len(clean_list)"
   ]
  },
  {
   "cell_type": "code",
   "execution_count": 49,
   "metadata": {
    "collapsed": false
   },
   "outputs": [
    {
     "name": "stdout",
     "output_type": "stream",
     "text": [
      "Picked up _JAVA_OPTIONS: -Xmx1024m -Xms256m -XX:ParallelGCThreads=1\n",
      "16/05/03 17:52:07 WARN util.NativeCodeLoader: Unable to load native-hadoop library for your platform... using builtin-java classes where applicable\n",
      "13.7 G  /user/imoise/TwitterData/2014_05/01\n",
      "13.3 G  /user/imoise/TwitterData/2014_05/02\n",
      "13.5 G  /user/imoise/TwitterData/2014_05/03\n",
      "14.3 G  /user/imoise/TwitterData/2014_05/04\n",
      "12.9 G  /user/imoise/TwitterData/2014_05/05\n",
      "8.2 G   /user/imoise/TwitterData/2014_05/06\n",
      "13.9 G  /user/imoise/TwitterData/2014_05/07\n",
      "14.0 G  /user/imoise/TwitterData/2014_05/08\n",
      "13.0 G  /user/imoise/TwitterData/2014_05/09\n",
      "13.9 G  /user/imoise/TwitterData/2014_05/10\n",
      "14.1 G  /user/imoise/TwitterData/2014_05/11\n",
      "13.9 G  /user/imoise/TwitterData/2014_05/12\n",
      "13.3 G  /user/imoise/TwitterData/2014_05/13\n",
      "13.2 G  /user/imoise/TwitterData/2014_05/14\n",
      "13.9 G  /user/imoise/TwitterData/2014_05/15\n",
      "13.5 G  /user/imoise/TwitterData/2014_05/16\n",
      "14.0 G  /user/imoise/TwitterData/2014_05/17\n",
      "13.9 G  /user/imoise/TwitterData/2014_05/18\n",
      "13.5 G  /user/imoise/TwitterData/2014_05/19\n",
      "8.1 G   /user/imoise/TwitterData/2014_05/20\n",
      "13.5 G  /user/imoise/TwitterData/2014_05/21\n",
      "13.7 G  /user/imoise/TwitterData/2014_05/22\n",
      "13.7 G  /user/imoise/TwitterData/2014_05/23\n",
      "14.4 G  /user/imoise/TwitterData/2014_05/24\n",
      "14.4 G  /user/imoise/TwitterData/2014_05/25\n",
      "14.2 G  /user/imoise/TwitterData/2014_05/26\n",
      "14.0 G  /user/imoise/TwitterData/2014_05/27\n",
      "14.0 G  /user/imoise/TwitterData/2014_05/28\n",
      "13.8 G  /user/imoise/TwitterData/2014_05/29\n",
      "13.5 G  /user/imoise/TwitterData/2014_05/30\n",
      "13.7 G  /user/imoise/TwitterData/2014_05/31\n"
     ]
    }
   ],
   "source": [
    "!hadoop fs -du -h /user/imoise/TwitterData/2014_05"
   ]
  },
  {
   "cell_type": "code",
   "execution_count": null,
   "metadata": {
    "collapsed": true
   },
   "outputs": [],
   "source": [
    "!hadoop fs -du -h /user/imoise/TwitterData/2014_05/"
   ]
  }
 ],
 "metadata": {
  "kernelspec": {
   "display_name": "Python 2",
   "language": "python",
   "name": "python2"
  },
  "language_info": {
   "codemirror_mode": {
    "name": "ipython",
    "version": 2
   },
   "file_extension": ".py",
   "mimetype": "text/x-python",
   "name": "python",
   "nbconvert_exporter": "python",
   "pygments_lexer": "ipython2",
   "version": "2.7.11"
  }
 },
 "nbformat": 4,
 "nbformat_minor": 0
}
