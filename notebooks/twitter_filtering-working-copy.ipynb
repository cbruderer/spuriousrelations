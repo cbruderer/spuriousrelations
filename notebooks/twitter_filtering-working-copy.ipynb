{
 "cells": [
  {
   "cell_type": "code",
   "execution_count": 1,
   "metadata": {
    "collapsed": true
   },
   "outputs": [],
   "source": [
    "from __future__ import print_function\n",
    "%matplotlib inline\n",
    "import matplotlib.pylab as plt\n",
    "import sys, os, glob\n",
    "import numpy as np\n",
    "import subprocess\n",
    "import datetime\n",
    "import time\n",
    "\n",
    "from ipywidgets import interact, interactive, fixed\n",
    "import ipywidgets as widgets\n",
    "\n",
    "from IPython.display import HTML\n",
    "import xml.etree.ElementTree as ET\n",
    "try:\n",
    "    tree = ET.parse(os.environ['HADOOP_CONF_DIR'] + '/yarn-site.xml')\n",
    "except IOError:\n",
    "    raise IOError(\"Can't find the yarn configuration -- is HADOOP_CONF_DIR set?\")"
   ]
  },
  {
   "cell_type": "code",
   "execution_count": 2,
   "metadata": {
    "collapsed": true
   },
   "outputs": [],
   "source": [
    "root = tree.getroot()\n",
    "yarn_web_app = root.findall(\"./property[name='yarn.resourcemanager.webapp.address']\")[0].find('value').text\n",
    "yarn_web_app_string = \"If this works successfully, you can check the <a target='_blank' href='http://{yarn_web_app}'>YARN application scheduler</a> and you should see your app listed there. Clicking on the 'Application Master' link will bring up the familiar Spark Web UI. \""
   ]
  },
  {
   "cell_type": "markdown",
   "metadata": {},
   "source": [
    "Load spark configuration setup when executing notebook by https://github.com/rokroskar/spark_workshop"
   ]
  },
  {
   "cell_type": "code",
   "execution_count": 3,
   "metadata": {
    "collapsed": false
   },
   "outputs": [],
   "source": [
    "# configuration directory\n",
    "os.environ['SPARK_CONF_DIR'] = os.path.realpath('../../spark_workshop/notebooks/twitter_dataframes/spark_config')\n",
    "\n",
    "# number of cores\n",
    "ncores = int(os.environ.get('LSB_DJOB_NUMPROC', 1)) \n",
    "\n",
    "# here we set the memory we want spark to use for the driver JVM\n",
    "os.environ['SPARK_DRIVER_MEMORY'] = '%dG'%(ncores*0.7)\n",
    "\n",
    "# python executable\n",
    "os.environ['PYSPARK_PYTHON'] = subprocess.check_output('which python', shell=True).rstrip()"
   ]
  },
  {
   "cell_type": "code",
   "execution_count": 4,
   "metadata": {
    "collapsed": false
   },
   "outputs": [],
   "source": [
    "import findspark\n",
    "findspark.init()\n",
    "\n",
    "import pyspark\n",
    "from pyspark import SparkConf, SparkContext\n",
    "from pyspark.sql import SQLContext, HiveContext\n",
    "import pyspark.sql.functions as func\n",
    "from pyspark.sql import Row, Window\n",
    "from pyspark.sql.types import IntegerType, ArrayType, StringType, NullType, LongType, StructField, \\\n",
    "                              StructType, DateType, DataType, DateConverter, DatetimeConverter, \\\n",
    "                              TimestampType, BooleanType\n",
    "from pyspark.ml.feature import Tokenizer, VectorAssembler\n",
    "from pyspark.mllib.linalg import DenseVector"
   ]
  },
  {
   "cell_type": "markdown",
   "metadata": {},
   "source": [
    "### Start context"
   ]
  },
  {
   "cell_type": "code",
   "execution_count": 5,
   "metadata": {
    "collapsed": false
   },
   "outputs": [],
   "source": [
    "conf = SparkConf()\n",
    "sc = SparkContext(master='yarn-client', conf=conf)"
   ]
  },
  {
   "cell_type": "markdown",
   "metadata": {},
   "source": [
    "### Load twitter data"
   ]
  },
  {
   "cell_type": "code",
   "execution_count": 6,
   "metadata": {
    "collapsed": false
   },
   "outputs": [],
   "source": [
    "hc = HiveContext(sc)"
   ]
  },
  {
   "cell_type": "code",
   "execution_count": 7,
   "metadata": {
    "collapsed": false
   },
   "outputs": [
    {
     "name": "stdout",
     "output_type": "stream",
     "text": [
      "Picked up _JAVA_OPTIONS: -Xmx1024m -Xms256m -XX:ParallelGCThreads=1\n",
      "16/05/04 12:50:29 WARN util.NativeCodeLoader: Unable to load native-hadoop library for your platform... using builtin-java classes where applicable\n",
      "55.1 G  /user/roskarr/twitter/2014_05\n",
      "31.7 G  /user/roskarr/twitter/2014_06\n",
      "51.0 G  /user/roskarr/twitter/2014_07\n",
      "59.6 G  /user/roskarr/twitter/2014_09\n",
      "61.9 G  /user/roskarr/twitter/2014_10\n",
      "62.0 G  /user/roskarr/twitter/2014_11\n",
      "12.1 G  /user/roskarr/twitter/2014_12\n"
     ]
    }
   ],
   "source": [
    "!hadoop fs -du -h /user/roskarr/twitter/"
   ]
  },
  {
   "cell_type": "markdown",
   "metadata": {},
   "source": [
    "Read in the parquet files by Iza and Rok containing the twitter data"
   ]
  },
  {
   "cell_type": "code",
   "execution_count": 8,
   "metadata": {
    "collapsed": false
   },
   "outputs": [
    {
     "name": "stdout",
     "output_type": "stream",
     "text": [
      "CPU times: user 13 ms, sys: 8 ms, total: 21 ms\n",
      "Wall time: 27.3 s\n"
     ]
    }
   ],
   "source": [
    "%%time\n",
    "month = '11'\n",
    "data = hc.read.parquet('/user/roskarr/twitter/2014_'+month+'*')"
   ]
  },
  {
   "cell_type": "markdown",
   "metadata": {},
   "source": [
    "### Pyspark configuration"
   ]
  },
  {
   "cell_type": "code",
   "execution_count": 9,
   "metadata": {
    "collapsed": false
   },
   "outputs": [
    {
     "data": {
      "text/plain": [
       "[(u'spark.yarn.executor.memoryOverhead', u'2048'),\n",
       " (u'spark.master', u'yarn-client'),\n",
       " (u'spark.sql.parquet.mergeSchema', u'true'),\n",
       " (u'spark.yarn.am.memory', u'8g'),\n",
       " (u'spark.executor.cores', u'4'),\n",
       " (u'spark.executor.instances', u'20'),\n",
       " (u'spark.app.name', u'twitter_dataframes'),\n",
       " (u'spark.shuffle.memoryFraction', u'0.2'),\n",
       " (u'spark.storage.memoryFraction', u'0.5'),\n",
       " (u'spark.rdd.compress', u'True'),\n",
       " (u'spark.serializer.objectStreamReset', u'100'),\n",
       " (u'spark.yarn.am.cores', u'4'),\n",
       " (u'spark.yarn.isPython', u'true'),\n",
       " (u'spark.submit.deployMode', u'client'),\n",
       " (u'spark.driver.memory', u'244G'),\n",
       " (u'spark.executor.memory', u'8g')]"
      ]
     },
     "execution_count": 9,
     "metadata": {},
     "output_type": "execute_result"
    }
   ],
   "source": [
    "sc._conf.getAll()"
   ]
  },
  {
   "cell_type": "markdown",
   "metadata": {},
   "source": [
    "### Read in our list containing the keywords"
   ]
  },
  {
   "cell_type": "code",
   "execution_count": 10,
   "metadata": {
    "collapsed": true
   },
   "outputs": [],
   "source": [
    "def get_keys(path='../docs/keywords.txt'):\n",
    "    keys = np.genfromtxt(path, dtype=\"|S20\", delimiter='#', autostrip=True)\n",
    "    return set(keys.tolist())"
   ]
  },
  {
   "cell_type": "code",
   "execution_count": 11,
   "metadata": {
    "collapsed": false
   },
   "outputs": [
    {
     "name": "stdout",
     "output_type": "stream",
     "text": [
      "set(['influenza', 'pope', 'unemployment', 'london', 'asylum', 'birds', 'galaxy', 'islam', 'rosetta', 'sochi', 'black', 'sierra', 'whatsapp', 'homework', 'mandela', 'coffee', 'maya', 'watch', 'vegan', 'arab', 'facebook', 'foreigners', 'wedding', 'liberia', 'school', 'meat', 'philippines', 'refugees', 'right', 'spring', 'twitter', 'allah', 'crimea', 'sandy', 'god', 'hurricane', 'olympics', 'ebola', 'europe', 'christian', 'pasta', 'teacher', 'vaccine', 'ukraine', 'climate', 'vegetarian', 'jogging', 'swine', 'comet', 'apple', 'family', 'nsa', 'africa', 'epidemic', 'google', 'linux', 'usa', 'divorce', 'bitcoin', 'sports', 'doomsday', 'pc', 'attack', 'iphone', 'tea', 'white', 'banana', 'snowden', 'gluten', 'geneva', 'immigration', 'mh370', 'obama', 'television', 'migrants', 'isis', 'higgs', 'flu', 'marriage', 'russia', 'unhcr', 'mh17', 'boston', 'pig', 'work', 'marathon', 'italy', 'ethiopia', 'terrorism', 'putin', 'who', 'holidays', 'virus', 'curiosity', 'syria', 'crowded', 'nelson', 'guinea', 'leone', 'left'])\n"
     ]
    }
   ],
   "source": [
    "keys = get_keys()\n",
    "print(keys)"
   ]
  },
  {
   "cell_type": "code",
   "execution_count": 12,
   "metadata": {
    "collapsed": false
   },
   "outputs": [
    {
     "name": "stdout",
     "output_type": "stream",
     "text": [
      "set(['#whatsapp', '#epidemic', '#pig', '#olympics', '#terrorism', '#iphone', '#curiosity', '#gluten', '#linux', '#putin', '#watch', '#unemployment', '#virus', '#apple', '#galaxy', '#liberia', '#television', '#ukraine', '#white', '#bitcoin', '#marriage', '#usa', '#hurricane', '#foreigners', '#mh17', '#unhcr', '#work', '#immigration', '#europe', '#migrants', '#meat', '#asylum', '#jogging', '#divorce', '#pc', '#italy', '#comet', '#geneva', '#pope', '#holidays', '#coffee', '#russia', '#vaccine', '#nsa', '#doomsday', '#africa', '#guinea', '#mh370', '#sports', '#family', '#leone', '#snowden', '#homework', '#allah', '#crowded', '#sochi', '#teacher', '#philippines', '#syria', '#london', '#school', '#flu', '#vegetarian', '#left', '#sierra', '#right', '#nelson', '#google', '#vegan', '#ethiopia', '#sandy', '#swine', '#marathon', '#pasta', '#boston', '#mandela', '#christian', '#influenza', '#god', '#rosetta', '#ebola', '#crimea', '#climate', '#birds', '#obama', '#who', '#black', '#twitter', '#islam', '#spring', '#maya', '#isis', '#wedding', '#refugees', '#banana', '#facebook', '#higgs', '#tea', '#arab', '#attack'])\n"
     ]
    }
   ],
   "source": [
    "keys_hashtag = set(['#'+key for key in list(get_keys())])\n",
    "print(keys_hashtag)"
   ]
  },
  {
   "cell_type": "markdown",
   "metadata": {},
   "source": [
    "### Custom functions performing operations on the columns"
   ]
  },
  {
   "cell_type": "code",
   "execution_count": 13,
   "metadata": {
    "collapsed": true
   },
   "outputs": [],
   "source": [
    "# Change the date format to YYYY-MM-DD HH:MM:SS\n",
    "convert_date_string = func.udf(lambda date_string: datetime.date.strftime(datetime.datetime.strptime(date_string, \\\n",
    "                                                                           '%a %b %d %H:%M:%S +0000 %Y'),\\\n",
    "                                                                           '%Y-%m-%d %H:%M:%S'\n",
    "                                                                         ), StringType())\n",
    "\n",
    "# Convert the date string to a datetime object\n",
    "datetime_udf = func.udf(lambda date_string: datetime.strptime(date_string, '%a %b %d %H:%M:%S +0000 %Y'), DateType())\n",
    "\n",
    "# Map the datetime object column to a unique number for every day in any year\n",
    "new_date = (lambda col: func.dayofyear(col) + func.year(col)*1000)"
   ]
  },
  {
   "cell_type": "markdown",
   "metadata": {},
   "source": [
    "## Filter dataframe to contain only tweets with at least one appearance of one of the keywords"
   ]
  },
  {
   "cell_type": "markdown",
   "metadata": {},
   "source": [
    "Number of partitions (set really high to avoid exit codes 52s (out of memory))"
   ]
  },
  {
   "cell_type": "code",
   "execution_count": 14,
   "metadata": {
    "collapsed": false
   },
   "outputs": [
    {
     "name": "stdout",
     "output_type": "stream",
     "text": [
      "6400\n"
     ]
    }
   ],
   "source": [
    "Npartitions = sc.defaultParallelism*80\n",
    "print(Npartitions)"
   ]
  },
  {
   "cell_type": "code",
   "execution_count": 15,
   "metadata": {
    "collapsed": false,
    "scrolled": false
   },
   "outputs": [],
   "source": [
    "tweets_df = (data.select('created_at', 'text')\n",
    "                 .filter(func.length('text') > 0)\n",
    "                 .withColumn('created_at', convert_date_string('created_at'))\n",
    "                 .withColumn('created_at', new_date('created_at'))\n",
    "             )"
   ]
  },
  {
   "cell_type": "markdown",
   "metadata": {},
   "source": [
    "Use Tokenizer to force 'text' to be lowercase and split up into words"
   ]
  },
  {
   "cell_type": "code",
   "execution_count": 16,
   "metadata": {
    "collapsed": false
   },
   "outputs": [],
   "source": [
    "T = Tokenizer(inputCol=\"text\", outputCol=\"words\")\n",
    "words_df = (T.transform(tweets_df)\n",
    "             .select('created_at', 'words')\n",
    "             .select('created_at', func.explode('words').alias('word'))\n",
    "             .cache()\n",
    "            )"
   ]
  },
  {
   "cell_type": "markdown",
   "metadata": {},
   "source": [
    "## Filter the dataset further and reduce"
   ]
  },
  {
   "cell_type": "markdown",
   "metadata": {},
   "source": [
    "With Pivot, we can have the date as columns and the individual words as different rows. Thus, then only the corresponding rows need to be selected and we get the histograms of each keywords."
   ]
  },
  {
   "cell_type": "code",
   "execution_count": 17,
   "metadata": {
    "collapsed": false
   },
   "outputs": [],
   "source": [
    "word_counts_per_day_df = (words_df.groupBy('word')\n",
    "                                  .pivot('created_at')  # Pivot will make the dates the headings of the columns\n",
    "                                  .count())"
   ]
  },
  {
   "cell_type": "markdown",
   "metadata": {},
   "source": [
    "Now, to get the distinct columns, the vector assembler is used, which takes together varies columns and merges them into arrays. These have the advantage, that the data for a given word is then in the format: Array(Counts for each day). Doing the same for the date, which are the columns names, gives a mapping on these counts to the days."
   ]
  },
  {
   "cell_type": "code",
   "execution_count": 18,
   "metadata": {
    "collapsed": true
   },
   "outputs": [],
   "source": [
    "# Get the dates, which are unique members of the column in the words_df, and put them into an array\n",
    "dates = (words_df.select('created_at')\n",
    "                 .distinct()\n",
    "                 .rdd\n",
    "                 .map(lambda r: str(r.created_at))\n",
    "                 .collect()\n",
    "         )\n",
    "\n",
    "dates_array = np.array(dates, dtype=np.int)\n",
    "\n",
    "# Make sure that these entries are sorted (should be)\n",
    "assert(np.all(np.sort(dates_array) == dates_array))"
   ]
  },
  {
   "cell_type": "code",
   "execution_count": 19,
   "metadata": {
    "collapsed": false
   },
   "outputs": [],
   "source": [
    "# Assemble the counts for each day into one column\n",
    "va = VectorAssembler(inputCols=dates, outputCol='histogram')\n",
    "histograms_df = va.transform(word_counts_per_day_df)\n",
    "\n",
    "# Assert that these columns are ordered the same way as the dates-list\n",
    "assert(dates == word_counts_per_day_df.columns[1:])"
   ]
  },
  {
   "cell_type": "markdown",
   "metadata": {},
   "source": [
    "Now that we have the histograms for each word, we can make the histograms for the keywords"
   ]
  },
  {
   "cell_type": "code",
   "execution_count": 20,
   "metadata": {
    "collapsed": false
   },
   "outputs": [],
   "source": [
    "histograms = histograms_df.select('word', 'histogram').rdd.filter(lambda r: r.word in keys.union(keys_hashtag)).collect()"
   ]
  },
  {
   "cell_type": "markdown",
   "metadata": {},
   "source": [
    "Some asserts to make sure that we understand the data and its format"
   ]
  },
  {
   "cell_type": "code",
   "execution_count": 21,
   "metadata": {
    "collapsed": false
   },
   "outputs": [],
   "source": [
    "words = []\n",
    "for h in histograms:\n",
    "    word, _ = h\n",
    "    words += [word]"
   ]
  },
  {
   "cell_type": "code",
   "execution_count": 22,
   "metadata": {
    "collapsed": false
   },
   "outputs": [
    {
     "data": {
      "text/plain": [
       "set()"
      ]
     },
     "execution_count": 22,
     "metadata": {},
     "output_type": "execute_result"
    }
   ],
   "source": [
    "keys.difference(set(words))"
   ]
  },
  {
   "cell_type": "markdown",
   "metadata": {},
   "source": [
    "Plot first 10 keywords as a sanity check"
   ]
  },
  {
   "cell_type": "code",
   "execution_count": 23,
   "metadata": {
    "collapsed": false
   },
   "outputs": [
    {
     "data": {
      "text/plain": [
       "<matplotlib.legend.Legend at 0x2ad4afb37cd0>"
      ]
     },
     "execution_count": 23,
     "metadata": {},
     "output_type": "execute_result"
    },
    {
     "data": {
      "image/png": "[encoded data removed]",
      "text/plain": [
       "<matplotlib.figure.Figure at 0x2ad4adb03250>"
      ]
     },
     "metadata": {},
     "output_type": "display_data"
    }
   ],
   "source": [
    "plt.figure(figsize=(16, 8))\n",
    "for h in histograms[0:10]: \n",
    "    word, vec = h\n",
    "    plt.plot(dates_array, vec, label=word)\n",
    "plt.legend(loc='best', frameon=False)"
   ]
  },
  {
   "cell_type": "markdown",
   "metadata": {},
   "source": [
    "Match keys with and without hashtags"
   ]
  },
  {
   "cell_type": "code",
   "execution_count": 24,
   "metadata": {
    "collapsed": false
   },
   "outputs": [],
   "source": [
    "words_wo_hashtags = [(words[i], i) for i in range(len(words)) if words[i][0] != '#']\n",
    "words_w_hashtags = [(words[i][1:], i) for i in range(len(words)) if words[i][0] == '#']\n",
    "length = max(len(words_wo_hashtags), len(words_w_hashtags))"
   ]
  },
  {
   "cell_type": "code",
   "execution_count": 25,
   "metadata": {
    "collapsed": true
   },
   "outputs": [],
   "source": [
    "words_wo_hashtags = [words[i] for i in range(len(words)) if words[i][0] != '#']\n",
    "words_w_hashtags = [words[i][1:] for i in range(len(words)) if words[i][0] == '#']\n",
    "\n",
    "words_no_hashtags = set(words_wo_hashtags).union(words_w_hashtags)\n",
    "# [\"foo\", \"bar\", \"baz\"].index(\"bar\")"
   ]
  },
  {
   "cell_type": "code",
   "execution_count": 26,
   "metadata": {
    "collapsed": false
   },
   "outputs": [],
   "source": [
    "words_indices = []\n",
    "\n",
    "for word in words_no_hashtags:\n",
    "    try:\n",
    "        words_indices += [(word, words.index(word), words.index('#'+word))]\n",
    "    except ValueError:\n",
    "        try:\n",
    "            words_indices += [(word, -1, words.index('#'+word))]\n",
    "        except ValueError:\n",
    "            words_indices += [(word, words.index(word), -1)]"
   ]
  },
  {
   "cell_type": "markdown",
   "metadata": {},
   "source": [
    "Now, write the output as csv files"
   ]
  },
  {
   "cell_type": "code",
   "execution_count": 27,
   "metadata": {
    "collapsed": true
   },
   "outputs": [],
   "source": [
    "outdir = '/cluster/home/phys/bruclaud/Documents/spuriousrelations/data/'"
   ]
  },
  {
   "cell_type": "code",
   "execution_count": 28,
   "metadata": {
    "collapsed": false
   },
   "outputs": [],
   "source": [
    "for i in range(len(words_indices)):\n",
    "    if words_indices[i][1] != -1 and words_indices[i][2] != -1:\n",
    "        word, vec = histograms[words_indices[i][1]]\n",
    "        vec = DenseVector(vec.toArray())\n",
    "        _, vec_tmp = histograms[words_indices[i][2]]\n",
    "        vec_tmp = DenseVector(vec_tmp.toArray())\n",
    "        vec += vec_tmp\n",
    "    elif words_indices[i][1] != -1:\n",
    "        word, vec = histograms[words_indices[i][1]]\n",
    "        vec = DenseVector(vec.toArray())\n",
    "    elif words_indices[i][2] != -1:\n",
    "        word, vec = histograms[words_indices[i][2]]\n",
    "        word = word.lstrip('#')\n",
    "        vec = DenseVector(vec.toArray())\n",
    "    else:\n",
    "        raise ValueError('This case cannot be.')\n",
    "\n",
    "    csvlist = [k[0]+','+k[1] for k in zip(dates, map(str, map(int, vec)))]\n",
    "    np.savetxt(outdir+word+'_'+month+'.csv', np.array(csvlist), fmt='%s')"
   ]
  },
  {
   "cell_type": "code",
   "execution_count": 29,
   "metadata": {
    "collapsed": true
   },
   "outputs": [],
   "source": [
    "sc.stop()"
   ]
  },
  {
   "cell_type": "code",
   "execution_count": null,
   "metadata": {
    "collapsed": true
   },
   "outputs": [],
   "source": []
  }
 ],
 "metadata": {
  "kernelspec": {
   "display_name": "Python 2",
   "language": "python",
   "name": "python2"
  },
  "language_info": {
   "codemirror_mode": {
    "name": "ipython",
    "version": 2
   },
   "file_extension": ".py",
   "mimetype": "text/x-python",
   "name": "python",
   "nbconvert_exporter": "python",
   "pygments_lexer": "ipython2",
   "version": "2.7.11"
  }
 },
 "nbformat": 4,
 "nbformat_minor": 0
}
